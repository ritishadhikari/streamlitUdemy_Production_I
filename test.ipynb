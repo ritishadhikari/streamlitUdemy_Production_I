{
 "cells": [
  {
   "cell_type": "code",
   "execution_count": 2,
   "metadata": {},
   "outputs": [],
   "source": [
    "import numpy as np\n",
    "import pandas as pd\n",
    "import matplotlib\n",
    "from matplotlib import pyplot as plt\n",
    "import streamlit as st"
   ]
  },
  {
   "cell_type": "code",
   "execution_count": 5,
   "metadata": {},
   "outputs": [
    {
     "data": {
      "text/plain": [
       "'1.32.2'"
      ]
     },
     "execution_count": 5,
     "metadata": {},
     "output_type": "execute_result"
    }
   ],
   "source": [
    "st.__version__"
   ]
  },
  {
   "cell_type": "code",
   "execution_count": 3,
   "metadata": {},
   "outputs": [],
   "source": [
    "URL = \"https://raw.githubusercontent.com/marcopeix/MachineLearningModelDeploymentwithStreamlit/master/12_dashboard_capstone/data/quarterly_canada_population.csv\"\n",
    "df=pd.read_csv(filepath_or_buffer=URL,\n",
    "               dtype={\n",
    "                   \"Quarter\": str,\n",
    "                   'Canada': np.int32,\n",
    "                   'Newfoundland and Labrador': np.int32,\n",
    "                   'Prince Edward Island': np.int32,\n",
    "                   'Nova Scotia': np.int32,\n",
    "                   'New Brunswick': np.int32,\n",
    "                   'Quebec': np.int32,\n",
    "                   'Ontario': np.int32,\n",
    "                   'Manitoba': np.int32,\n",
    "                   'Saskatchewan': np.int32,\n",
    "                   'Alberta': np.int32,\n",
    "                   'British Columbia': np.int32,\n",
    "                   'Yukon': np.int32,\n",
    "                   'Northwest Territories': np.int32,\n",
    "                   'Nunavut': np.int32\n",
    "               })"
   ]
  },
  {
   "cell_type": "code",
   "execution_count": 4,
   "metadata": {},
   "outputs": [
    {
     "data": {
      "text/html": [
       "<div>\n",
       "<style scoped>\n",
       "    .dataframe tbody tr th:only-of-type {\n",
       "        vertical-align: middle;\n",
       "    }\n",
       "\n",
       "    .dataframe tbody tr th {\n",
       "        vertical-align: top;\n",
       "    }\n",
       "\n",
       "    .dataframe thead th {\n",
       "        text-align: right;\n",
       "    }\n",
       "</style>\n",
       "<table border=\"1\" class=\"dataframe\">\n",
       "  <thead>\n",
       "    <tr style=\"text-align: right;\">\n",
       "      <th></th>\n",
       "      <th>Quarter</th>\n",
       "      <th>Canada</th>\n",
       "      <th>Newfoundland and Labrador</th>\n",
       "      <th>Prince Edward Island</th>\n",
       "      <th>Nova Scotia</th>\n",
       "      <th>New Brunswick</th>\n",
       "      <th>Quebec</th>\n",
       "      <th>Ontario</th>\n",
       "      <th>Manitoba</th>\n",
       "      <th>Saskatchewan</th>\n",
       "      <th>Alberta</th>\n",
       "      <th>British Columbia</th>\n",
       "      <th>Yukon</th>\n",
       "      <th>Northwest Territories</th>\n",
       "      <th>Nunavut</th>\n",
       "    </tr>\n",
       "  </thead>\n",
       "  <tbody>\n",
       "    <tr>\n",
       "      <th>0</th>\n",
       "      <td>Q3 1991</td>\n",
       "      <td>28037420</td>\n",
       "      <td>579644</td>\n",
       "      <td>130369</td>\n",
       "      <td>914969</td>\n",
       "      <td>745567</td>\n",
       "      <td>7067396</td>\n",
       "      <td>10431316</td>\n",
       "      <td>1109604</td>\n",
       "      <td>1002713</td>\n",
       "      <td>2592306</td>\n",
       "      <td>3373787</td>\n",
       "      <td>28871</td>\n",
       "      <td>38724</td>\n",
       "      <td>22154</td>\n",
       "    </tr>\n",
       "    <tr>\n",
       "      <th>1</th>\n",
       "      <td>Q4 1991</td>\n",
       "      <td>28127327</td>\n",
       "      <td>579549</td>\n",
       "      <td>130360</td>\n",
       "      <td>916896</td>\n",
       "      <td>745886</td>\n",
       "      <td>7080336</td>\n",
       "      <td>10465562</td>\n",
       "      <td>1109400</td>\n",
       "      <td>1000942</td>\n",
       "      <td>2604031</td>\n",
       "      <td>3404049</td>\n",
       "      <td>29142</td>\n",
       "      <td>38854</td>\n",
       "      <td>22320</td>\n",
       "    </tr>\n",
       "    <tr>\n",
       "      <th>2</th>\n",
       "      <td>Q1 1992</td>\n",
       "      <td>28181477</td>\n",
       "      <td>579425</td>\n",
       "      <td>130604</td>\n",
       "      <td>917302</td>\n",
       "      <td>746571</td>\n",
       "      <td>7082645</td>\n",
       "      <td>10488022</td>\n",
       "      <td>1109978</td>\n",
       "      <td>1001136</td>\n",
       "      <td>2611786</td>\n",
       "      <td>3423217</td>\n",
       "      <td>29239</td>\n",
       "      <td>39055</td>\n",
       "      <td>22497</td>\n",
       "    </tr>\n",
       "    <tr>\n",
       "      <th>3</th>\n",
       "      <td>Q2 1992</td>\n",
       "      <td>28269699</td>\n",
       "      <td>579761</td>\n",
       "      <td>130812</td>\n",
       "      <td>917555</td>\n",
       "      <td>747232</td>\n",
       "      <td>7096705</td>\n",
       "      <td>10528346</td>\n",
       "      <td>1111050</td>\n",
       "      <td>1002831</td>\n",
       "      <td>2620771</td>\n",
       "      <td>3443237</td>\n",
       "      <td>29510</td>\n",
       "      <td>39230</td>\n",
       "      <td>22659</td>\n",
       "    </tr>\n",
       "    <tr>\n",
       "      <th>4</th>\n",
       "      <td>Q3 1992</td>\n",
       "      <td>28371264</td>\n",
       "      <td>580109</td>\n",
       "      <td>130827</td>\n",
       "      <td>919451</td>\n",
       "      <td>748121</td>\n",
       "      <td>7110010</td>\n",
       "      <td>10572205</td>\n",
       "      <td>1112689</td>\n",
       "      <td>1003995</td>\n",
       "      <td>2632672</td>\n",
       "      <td>3468802</td>\n",
       "      <td>30084</td>\n",
       "      <td>39416</td>\n",
       "      <td>22883</td>\n",
       "    </tr>\n",
       "  </tbody>\n",
       "</table>\n",
       "</div>"
      ],
      "text/plain": [
       "   Quarter    Canada  Newfoundland and Labrador  Prince Edward Island  \\\n",
       "0  Q3 1991  28037420                     579644                130369   \n",
       "1  Q4 1991  28127327                     579549                130360   \n",
       "2  Q1 1992  28181477                     579425                130604   \n",
       "3  Q2 1992  28269699                     579761                130812   \n",
       "4  Q3 1992  28371264                     580109                130827   \n",
       "\n",
       "   Nova Scotia  New Brunswick   Quebec   Ontario  Manitoba  Saskatchewan  \\\n",
       "0       914969         745567  7067396  10431316   1109604       1002713   \n",
       "1       916896         745886  7080336  10465562   1109400       1000942   \n",
       "2       917302         746571  7082645  10488022   1109978       1001136   \n",
       "3       917555         747232  7096705  10528346   1111050       1002831   \n",
       "4       919451         748121  7110010  10572205   1112689       1003995   \n",
       "\n",
       "   Alberta  British Columbia  Yukon  Northwest Territories  Nunavut  \n",
       "0  2592306           3373787  28871                  38724    22154  \n",
       "1  2604031           3404049  29142                  38854    22320  \n",
       "2  2611786           3423217  29239                  39055    22497  \n",
       "3  2620771           3443237  29510                  39230    22659  \n",
       "4  2632672           3468802  30084                  39416    22883  "
      ]
     },
     "execution_count": 4,
     "metadata": {},
     "output_type": "execute_result"
    }
   ],
   "source": [
    "df.head()"
   ]
  },
  {
   "cell_type": "code",
   "execution_count": 16,
   "metadata": {},
   "outputs": [
    {
     "data": {
      "text/plain": [
       "0"
      ]
     },
     "execution_count": 16,
     "metadata": {},
     "output_type": "execute_result"
    }
   ],
   "source": [
    "df.loc[df['Quarter']==\"Q3 1991\",'Nova Scotia'].index.item()"
   ]
  },
  {
   "cell_type": "code",
   "execution_count": null,
   "metadata": {},
   "outputs": [],
   "source": []
  },
  {
   "cell_type": "code",
   "execution_count": null,
   "metadata": {},
   "outputs": [],
   "source": []
  }
 ],
 "metadata": {
  "kernelspec": {
   "display_name": "streamLit",
   "language": "python",
   "name": "python3"
  },
  "language_info": {
   "codemirror_mode": {
    "name": "ipython",
    "version": 3
   },
   "file_extension": ".py",
   "mimetype": "text/x-python",
   "name": "python",
   "nbconvert_exporter": "python",
   "pygments_lexer": "ipython3",
   "version": "3.9.19"
  }
 },
 "nbformat": 4,
 "nbformat_minor": 2
}
